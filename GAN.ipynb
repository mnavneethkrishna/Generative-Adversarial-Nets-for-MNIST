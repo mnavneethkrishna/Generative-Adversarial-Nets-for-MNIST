{
  "nbformat": 4,
  "nbformat_minor": 0,
  "metadata": {
    "colab": {
      "name": "GAN.ipynb",
      "version": "0.3.2",
      "provenance": [],
      "collapsed_sections": [],
      "include_colab_link": true
    },
    "kernelspec": {
      "name": "python3",
      "display_name": "Python 3"
    },
    "accelerator": "GPU"
  },
  "cells": [
    {
      "cell_type": "markdown",
      "metadata": {
        "id": "view-in-github",
        "colab_type": "text"
      },
      "source": [
        "<a href=\"https://colab.research.google.com/github/mnavneethkrishna/Generative-Adversarial-Nets-for-MNIST/blob/master/GAN.ipynb\" target=\"_parent\"><img src=\"https://colab.research.google.com/assets/colab-badge.svg\" alt=\"Open In Colab\"/></a>"
      ]
    },
    {
      "metadata": {
        "id": "T5ISEmGmUwR4",
        "colab_type": "code",
        "colab": {}
      },
      "cell_type": "code",
      "source": [
        "from __future__ import division, print_function, absolute_import"
      ],
      "execution_count": 0,
      "outputs": []
    },
    {
      "metadata": {
        "id": "-cEv3VgvVHD7",
        "colab_type": "code",
        "colab": {}
      },
      "cell_type": "code",
      "source": [
        "import matplotlib.pyplot as plt\n",
        "import numpy as np\n",
        "import tensorflow as tf"
      ],
      "execution_count": 0,
      "outputs": []
    },
    {
      "metadata": {
        "id": "a1e2isfjVPF7",
        "colab_type": "code",
        "outputId": "f292174a-9bc0-481c-d098-a965eb6b14f7",
        "colab": {
          "base_uri": "https://localhost:8080/",
          "height": 85
        }
      },
      "cell_type": "code",
      "source": [
        "#Import data\n",
        "from tensorflow.examples.tutorials.mnist import input_data\n",
        "mnist = input_data.read_data_sets(\"/temp/data/\",one_hot=True)"
      ],
      "execution_count": 24,
      "outputs": [
        {
          "output_type": "stream",
          "text": [
            "Extracting /temp/data/train-images-idx3-ubyte.gz\n",
            "Extracting /temp/data/train-labels-idx1-ubyte.gz\n",
            "Extracting /temp/data/t10k-images-idx3-ubyte.gz\n",
            "Extracting /temp/data/t10k-labels-idx1-ubyte.gz\n"
          ],
          "name": "stdout"
        }
      ]
    },
    {
      "metadata": {
        "id": "XQsSRbwcVfuN",
        "colab_type": "code",
        "colab": {}
      },
      "cell_type": "code",
      "source": [
        "num_steps = 100000\n",
        "batch_size = 128\n",
        "learning_rate = 0.0002"
      ],
      "execution_count": 0,
      "outputs": []
    },
    {
      "metadata": {
        "id": "M42cR0ozVpkS",
        "colab_type": "code",
        "colab": {}
      },
      "cell_type": "code",
      "source": [
        "image_dim = 784\n",
        "gen_hidden_dim = 256\n",
        "disc_hidden_dim = 256\n",
        "noise_dim = 100"
      ],
      "execution_count": 0,
      "outputs": []
    },
    {
      "metadata": {
        "id": "1eWvPtKKV71C",
        "colab_type": "code",
        "colab": {}
      },
      "cell_type": "code",
      "source": [
        "def glorot_init(shape):\n",
        "  return tf.random_normal(shape=shape, stddev=1./tf.sqrt(shape[0]/2.))"
      ],
      "execution_count": 0,
      "outputs": []
    },
    {
      "metadata": {
        "id": "Pjt1Vvn9WMMP",
        "colab_type": "code",
        "colab": {}
      },
      "cell_type": "code",
      "source": [
        "weights = {\n",
        "    'gen_hidden1':tf.Variable(glorot_init([noise_dim, gen_hidden_dim])),\n",
        "    'gen_out': tf.Variable(glorot_init([gen_hidden_dim, image_dim])),\n",
        "    'disc_hidden1': tf.Variable(glorot_init([image_dim, disc_hidden_dim])),\n",
        "    'disc_out': tf.Variable(glorot_init([disc_hidden_dim, 1]))\n",
        "}"
      ],
      "execution_count": 0,
      "outputs": []
    },
    {
      "metadata": {
        "id": "HcMbrQbKXEq5",
        "colab_type": "code",
        "colab": {}
      },
      "cell_type": "code",
      "source": [
        "biases = {\n",
        "    'gen_hidden1': tf.Variable(tf.zeros([gen_hidden_dim])),\n",
        "    'gen_out': tf.Variable(tf.zeros([image_dim])),\n",
        "    'disc_hidden1': tf.Variable(tf.zeros([disc_hidden_dim])),\n",
        "    'disc_out': tf.Variable(tf.zeros([1]))\n",
        "}"
      ],
      "execution_count": 0,
      "outputs": []
    },
    {
      "metadata": {
        "id": "RsPH1uY3Xs9M",
        "colab_type": "code",
        "colab": {}
      },
      "cell_type": "code",
      "source": [
        "#Generator\n",
        "def generator(x):\n",
        "  hidden_layer = tf.matmul(x, weights['gen_hidden1'])\n",
        "  hidden_layer = tf.add(hidden_layer, biases['gen_hidden1'])\n",
        "  hidden_layer = tf.nn.relu(hidden_layer)\n",
        "  out_layer = tf.matmul(hidden_layer, weights['gen_out'])\n",
        "  out_layer = tf.add(out_layer, biases['gen_out'])\n",
        "  out_layer = tf.nn.sigmoid(out_layer)\n",
        "  return out_layer"
      ],
      "execution_count": 0,
      "outputs": []
    },
    {
      "metadata": {
        "id": "PJAKYuQmYWI3",
        "colab_type": "code",
        "colab": {}
      },
      "cell_type": "code",
      "source": [
        "#Discriminator\n",
        "def discriminator(x):\n",
        "  hidden_layer = tf.matmul(x, weights['disc_hidden1'])\n",
        "  hidden_layer = tf.add(hidden_layer, biases['disc_hidden1'])\n",
        "  hidden_layer = tf.nn.relu(hidden_layer)\n",
        "  out_layer = tf.matmul(hidden_layer, weights['disc_out'])\n",
        "  out_layer = tf.add(out_layer, biases['disc_out'])\n",
        "  out_layer = tf.nn.sigmoid(out_layer)\n",
        "  return out_layer"
      ],
      "execution_count": 0,
      "outputs": []
    },
    {
      "metadata": {
        "id": "xKRrie-KY7Js",
        "colab_type": "code",
        "colab": {}
      },
      "cell_type": "code",
      "source": [
        "#Build neural networks\n",
        "# Input to nns\n",
        "gen_input = tf.placeholder(tf.float32, shape=[None, noise_dim], name='input_noise')\n",
        "disc_input = tf.placeholder(tf.float32, shape=[None, image_dim], name='disc_input')"
      ],
      "execution_count": 0,
      "outputs": []
    },
    {
      "metadata": {
        "id": "DeJ4tLJmZdTn",
        "colab_type": "code",
        "colab": {}
      },
      "cell_type": "code",
      "source": [
        "# Build generator network\n",
        "gen_sample = generator(gen_input)"
      ],
      "execution_count": 0,
      "outputs": []
    },
    {
      "metadata": {
        "id": "30tw9i40jHuA",
        "colab_type": "code",
        "colab": {}
      },
      "cell_type": "code",
      "source": [
        "# Buid discriminator\n",
        "disc_real = discriminator(disc_input)\n",
        "disc_fake = discriminator(gen_sample)"
      ],
      "execution_count": 0,
      "outputs": []
    },
    {
      "metadata": {
        "id": "aR_nfJ7qjoRF",
        "colab_type": "code",
        "colab": {}
      },
      "cell_type": "code",
      "source": [
        "#Build loss\n",
        "gen_loss = - tf.reduce_mean(tf.log(disc_fake))\n",
        "disc_loss = -tf.reduce_mean(tf.log(disc_real) + tf.log(1. - disc_fake))\n"
      ],
      "execution_count": 0,
      "outputs": []
    },
    {
      "metadata": {
        "id": "AhHn3762j8l1",
        "colab_type": "code",
        "colab": {}
      },
      "cell_type": "code",
      "source": [
        "#Build optimizers\n",
        "optimizer_gen = tf.train.AdamOptimizer(learning_rate = learning_rate)\n",
        "optimizer_disc = tf.train.AdamOptimizer(learning_rate = learning_rate)"
      ],
      "execution_count": 0,
      "outputs": []
    },
    {
      "metadata": {
        "id": "5-dYoZTWkQAI",
        "colab_type": "code",
        "colab": {}
      },
      "cell_type": "code",
      "source": [
        "gen_vars = [weights['gen_hidden1'], weights['gen_out'],\n",
        "           biases['disc_hidden1'], biases['disc_out']]"
      ],
      "execution_count": 0,
      "outputs": []
    },
    {
      "metadata": {
        "id": "pCWBEsyTkgqV",
        "colab_type": "code",
        "colab": {}
      },
      "cell_type": "code",
      "source": [
        "disc_vars = [weights['disc_hidden1'], weights['disc_out'],\n",
        "            biases['disc_hidden1'], biases['disc_out']]"
      ],
      "execution_count": 0,
      "outputs": []
    },
    {
      "metadata": {
        "id": "_pfrUyy9kuin",
        "colab_type": "code",
        "colab": {}
      },
      "cell_type": "code",
      "source": [
        "# Training operations\n",
        "train_gen = optimizer_gen.minimize(gen_loss, var_list=gen_vars)\n",
        "train_disc = optimizer_disc.minimize(disc_loss, var_list=disc_vars)"
      ],
      "execution_count": 0,
      "outputs": []
    },
    {
      "metadata": {
        "id": "1DIqcEW0k_OT",
        "colab_type": "code",
        "colab": {}
      },
      "cell_type": "code",
      "source": [
        "init = tf.global_variables_initializer()"
      ],
      "execution_count": 0,
      "outputs": []
    },
    {
      "metadata": {
        "id": "DICjcP9jmJxW",
        "colab_type": "code",
        "colab": {}
      },
      "cell_type": "code",
      "source": [
        "%matplotlib inline"
      ],
      "execution_count": 0,
      "outputs": []
    },
    {
      "metadata": {
        "id": "7Z7h0qk2lDfK",
        "colab_type": "code",
        "outputId": "6e07fc7a-116b-4f18-b5ad-4e156d438755",
        "colab": {
          "base_uri": "https://localhost:8080/",
          "height": 1985
        }
      },
      "cell_type": "code",
      "source": [
        "with tf.Session() as sess:\n",
        "  sess.run(init)\n",
        "  for i in range(1, num_steps+1):\n",
        "    batch_x, _ = mnist.train.next_batch(batch_size)\n",
        "    z = np.random.uniform(-1., 1., size=[batch_size, noise_dim])\n",
        "    \n",
        "    # Train\n",
        "    feed_dict = {disc_input: batch_x, gen_input:z}\n",
        "    _, _, gl, dl = sess.run([train_gen, train_disc, gen_loss, disc_loss],\n",
        "                           feed_dict = feed_dict)\n",
        "    if i%1000 == 0 or i ==1:\n",
        "      print(\"Step %i: Generator loss: %f, Discriminator loss: %f\" %(i, gl, dl))\n",
        "    \n",
        "   # Generate images from noise\n",
        "  f, a = plt.subplots(4, 10, figsize=(10,4))\n",
        "  plt.grid(False)\n",
        "  plt.axis(\"off\")\n",
        "  for i in range(10):\n",
        "    z = np.random.uniform(-1.,1., size=[4, noise_dim])\n",
        "    g = sess.run([gen_sample], feed_dict= {gen_input:z})\n",
        "    g = np.reshape(g, newshape=(4, 28, 28, 1))\n",
        "      \n",
        "    g = -1 * (g-1)\n",
        "    for j in range(4):\n",
        "      img = np.reshape(np.repeat(g[j][:,:,np.newaxis], 3, axis=2), \n",
        "                        newshape=(28,28,3))\n",
        "      a[j][i].imshow(img)"
      ],
      "execution_count": 43,
      "outputs": [
        {
          "output_type": "stream",
          "text": [
            "Step 1: Generator loss: 0.811930, Discriminator loss: 1.580781\n",
            "Step 1000: Generator loss: 3.496656, Discriminator loss: 0.105565\n",
            "Step 2000: Generator loss: 0.716802, Discriminator loss: 0.855015\n",
            "Step 3000: Generator loss: 2.354581, Discriminator loss: 0.138019\n",
            "Step 4000: Generator loss: 3.249256, Discriminator loss: 0.134883\n",
            "Step 5000: Generator loss: 3.526403, Discriminator loss: 0.122040\n",
            "Step 6000: Generator loss: 1.537553, Discriminator loss: 0.464054\n",
            "Step 7000: Generator loss: 1.923666, Discriminator loss: 0.284344\n",
            "Step 8000: Generator loss: 1.623930, Discriminator loss: 0.418051\n",
            "Step 9000: Generator loss: 1.987200, Discriminator loss: 0.320738\n",
            "Step 10000: Generator loss: 2.024975, Discriminator loss: 0.315969\n",
            "Step 11000: Generator loss: 1.876241, Discriminator loss: 0.404089\n",
            "Step 12000: Generator loss: 1.960771, Discriminator loss: 0.295165\n",
            "Step 13000: Generator loss: 2.054698, Discriminator loss: 0.414191\n",
            "Step 14000: Generator loss: 2.033779, Discriminator loss: 0.439397\n",
            "Step 15000: Generator loss: 2.087270, Discriminator loss: 0.469225\n",
            "Step 16000: Generator loss: 1.795713, Discriminator loss: 0.445629\n",
            "Step 17000: Generator loss: 1.752105, Discriminator loss: 0.448593\n",
            "Step 18000: Generator loss: 1.879937, Discriminator loss: 0.507247\n",
            "Step 19000: Generator loss: 1.588906, Discriminator loss: 0.677798\n",
            "Step 20000: Generator loss: 1.412073, Discriminator loss: 0.633099\n",
            "Step 21000: Generator loss: 1.723468, Discriminator loss: 0.439906\n",
            "Step 22000: Generator loss: 1.825237, Discriminator loss: 0.533928\n",
            "Step 23000: Generator loss: 1.683535, Discriminator loss: 0.485613\n",
            "Step 24000: Generator loss: 1.622479, Discriminator loss: 0.502270\n",
            "Step 25000: Generator loss: 1.652221, Discriminator loss: 0.447006\n",
            "Step 26000: Generator loss: 1.458938, Discriminator loss: 0.582369\n",
            "Step 27000: Generator loss: 1.384430, Discriminator loss: 0.648911\n",
            "Step 28000: Generator loss: 1.391834, Discriminator loss: 0.615106\n",
            "Step 29000: Generator loss: 1.272815, Discriminator loss: 0.676613\n",
            "Step 30000: Generator loss: 1.328776, Discriminator loss: 0.654177\n",
            "Step 31000: Generator loss: 1.568379, Discriminator loss: 0.501827\n",
            "Step 32000: Generator loss: 1.558102, Discriminator loss: 0.506534\n",
            "Step 33000: Generator loss: 1.452854, Discriminator loss: 0.553890\n",
            "Step 34000: Generator loss: 1.433645, Discriminator loss: 0.650222\n",
            "Step 35000: Generator loss: 1.396461, Discriminator loss: 0.646358\n",
            "Step 36000: Generator loss: 1.436231, Discriminator loss: 0.570841\n",
            "Step 37000: Generator loss: 1.477367, Discriminator loss: 0.591165\n",
            "Step 38000: Generator loss: 1.421943, Discriminator loss: 0.544216\n",
            "Step 39000: Generator loss: 1.202018, Discriminator loss: 0.787554\n",
            "Step 40000: Generator loss: 1.262178, Discriminator loss: 0.654861\n",
            "Step 41000: Generator loss: 1.345904, Discriminator loss: 0.618165\n",
            "Step 42000: Generator loss: 1.386039, Discriminator loss: 0.666876\n",
            "Step 43000: Generator loss: 1.451257, Discriminator loss: 0.621108\n",
            "Step 44000: Generator loss: 1.432661, Discriminator loss: 0.525545\n",
            "Step 45000: Generator loss: 1.315441, Discriminator loss: 0.733071\n",
            "Step 46000: Generator loss: 1.322512, Discriminator loss: 0.689423\n",
            "Step 47000: Generator loss: 1.292392, Discriminator loss: 0.703583\n",
            "Step 48000: Generator loss: 1.296012, Discriminator loss: 0.544845\n",
            "Step 49000: Generator loss: 1.490746, Discriminator loss: 0.584544\n",
            "Step 50000: Generator loss: 1.392175, Discriminator loss: 0.491034\n",
            "Step 51000: Generator loss: 1.292722, Discriminator loss: 0.605855\n",
            "Step 52000: Generator loss: 1.250342, Discriminator loss: 0.668816\n",
            "Step 53000: Generator loss: 1.174934, Discriminator loss: 0.707501\n",
            "Step 54000: Generator loss: 1.239891, Discriminator loss: 0.746871\n",
            "Step 55000: Generator loss: 1.121602, Discriminator loss: 0.702043\n",
            "Step 56000: Generator loss: 1.260167, Discriminator loss: 0.660673\n",
            "Step 57000: Generator loss: 1.126509, Discriminator loss: 0.737071\n",
            "Step 58000: Generator loss: 1.208595, Discriminator loss: 0.563150\n",
            "Step 59000: Generator loss: 1.038192, Discriminator loss: 0.717540\n",
            "Step 60000: Generator loss: 1.301500, Discriminator loss: 0.650929\n",
            "Step 61000: Generator loss: 1.215364, Discriminator loss: 0.691199\n",
            "Step 62000: Generator loss: 1.196744, Discriminator loss: 0.667857\n",
            "Step 63000: Generator loss: 1.117403, Discriminator loss: 0.663645\n",
            "Step 64000: Generator loss: 1.196723, Discriminator loss: 0.816824\n",
            "Step 65000: Generator loss: 1.162864, Discriminator loss: 0.677671\n",
            "Step 66000: Generator loss: 1.396617, Discriminator loss: 0.585160\n",
            "Step 67000: Generator loss: 1.196823, Discriminator loss: 0.817203\n",
            "Step 68000: Generator loss: 1.189730, Discriminator loss: 0.690367\n",
            "Step 69000: Generator loss: 1.084466, Discriminator loss: 0.711207\n",
            "Step 70000: Generator loss: 1.237132, Discriminator loss: 0.696593\n",
            "Step 71000: Generator loss: 1.050555, Discriminator loss: 0.771182\n",
            "Step 72000: Generator loss: 1.129428, Discriminator loss: 0.751401\n",
            "Step 73000: Generator loss: 1.129383, Discriminator loss: 0.723891\n",
            "Step 74000: Generator loss: 1.185343, Discriminator loss: 0.732954\n",
            "Step 75000: Generator loss: 1.211223, Discriminator loss: 0.743027\n",
            "Step 76000: Generator loss: 1.236610, Discriminator loss: 0.584817\n",
            "Step 77000: Generator loss: 1.319056, Discriminator loss: 0.733478\n",
            "Step 78000: Generator loss: 0.967772, Discriminator loss: 0.827075\n",
            "Step 79000: Generator loss: 1.041220, Discriminator loss: 0.788441\n",
            "Step 80000: Generator loss: 1.062441, Discriminator loss: 0.686651\n",
            "Step 81000: Generator loss: 1.183147, Discriminator loss: 0.735915\n",
            "Step 82000: Generator loss: 1.058037, Discriminator loss: 0.727942\n",
            "Step 83000: Generator loss: 1.010580, Discriminator loss: 0.815708\n",
            "Step 84000: Generator loss: 1.072631, Discriminator loss: 0.681967\n",
            "Step 85000: Generator loss: 1.186257, Discriminator loss: 0.677362\n",
            "Step 86000: Generator loss: 0.952272, Discriminator loss: 0.819833\n",
            "Step 87000: Generator loss: 1.221361, Discriminator loss: 0.661239\n",
            "Step 88000: Generator loss: 1.154249, Discriminator loss: 0.740763\n",
            "Step 89000: Generator loss: 0.988713, Discriminator loss: 0.832844\n",
            "Step 90000: Generator loss: 1.205415, Discriminator loss: 0.636833\n",
            "Step 91000: Generator loss: 1.145000, Discriminator loss: 0.739286\n",
            "Step 92000: Generator loss: 1.010722, Discriminator loss: 0.837506\n",
            "Step 93000: Generator loss: 1.042067, Discriminator loss: 0.736742\n",
            "Step 94000: Generator loss: 1.122834, Discriminator loss: 0.789789\n",
            "Step 95000: Generator loss: 1.135982, Discriminator loss: 0.773523\n",
            "Step 96000: Generator loss: 0.961414, Discriminator loss: 0.828147\n",
            "Step 97000: Generator loss: 1.085077, Discriminator loss: 0.780980\n",
            "Step 98000: Generator loss: 0.970121, Discriminator loss: 0.842537\n",
            "Step 99000: Generator loss: 1.037084, Discriminator loss: 0.764366\n",
            "Step 100000: Generator loss: 0.982997, Discriminator loss: 0.836279\n"
          ],
          "name": "stdout"
        },
        {
          "output_type": "display_data",
          "data": {
            "image/png": "[encoded data removed]",
            "text/plain": [
              "<matplotlib.figure.Figure at 0x7f15902335f8>"
            ]
          },
          "metadata": {
            "tags": []
          }
        }
      ]
    },
    {
      "metadata": {
        "id": "9LzuCOqunHWB",
        "colab_type": "code",
        "colab": {}
      },
      "cell_type": "code",
      "source": [
        ""
      ],
      "execution_count": 0,
      "outputs": []
    }
  ]
}